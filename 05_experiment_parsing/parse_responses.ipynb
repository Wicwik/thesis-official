{
 "cells": [
  {
   "cell_type": "markdown",
   "id": "understood-paint",
   "metadata": {},
   "source": [
    "# 5. Questionnaire responses parsing"
   ]
  },
  {
   "cell_type": "code",
   "execution_count": null,
   "id": "future-bryan",
   "metadata": {},
   "outputs": [],
   "source": [
    "import pandas as pd\n",
    "import matplotlib.pyplot as plt"
   ]
  },
  {
   "cell_type": "code",
   "execution_count": null,
   "id": "ordered-tribute",
   "metadata": {},
   "outputs": [],
   "source": [
    "# we dont need the timestamp\n",
    "responses = pd.read_csv('responses.csv').drop('Timestamp', 1)\n",
    "responses.head()"
   ]
  },
  {
   "cell_type": "markdown",
   "id": "turkish-diversity",
   "metadata": {},
   "source": [
    "Replace wanted answers with 1., unwanted answers with 0.0 and can't tell with 0.5. This the effect of why has beard + male section swaped male/female values compared to  smile + female + young section."
   ]
  },
  {
   "cell_type": "code",
   "execution_count": null,
   "id": "transsexual-detective",
   "metadata": {},
   "outputs": [],
   "source": [
    "# eyeglasses\n",
    "responses_1cat = responses.iloc[:,:20].replace('Áno, človek na obrázku má okuliare', 1.0)\\\n",
    "                                      .replace('Nie, človek na obrázku nemá okuliare', 0.0)\\\n",
    "                                      .replace('Z obrázku neviem povedať, či človek má, alebo nemá okuliare', 0.5)\n",
    "\n",
    "# beard + male\n",
    "responses_2cat = responses.iloc[:,20:60].replace('Áno, človek na obrázku má bradu', 1.0)\\\n",
    "                                        .replace('Nie, človek na obrázku nemá bradu', 0.0)\\\n",
    "                                        .replace('Z obrázku neviem povedať, či človek má, alebo nemá bradu', 0.5)\\\n",
    "                                        .replace('Človek na obrázku sa podobá skôr na ženu', 0.0)\\\n",
    "                                        .replace('Človek na obrázku sa podobá skôr na muža', 1.0)\\\n",
    "                                        .replace('Z obrázku neviem povedať, či sa človek podobá skôr na ženu, alebo na muža', 0.5)\n",
    "\n",
    "# smile + female + young\n",
    "responses_3cat = responses.iloc[:,60:120].replace('Áno, človek na obrázku sa usmieva', 1.0)\\\n",
    "                                         .replace('Nie, človek na obrázku sa neusmieva', 0.0)\\\n",
    "                                         .replace('Z obrázku neviem povedať, či sa človek na obrázku usmieva, alebo neusmieva', 0.5)\\\n",
    "                                         .replace('Človek na obrázku sa podobá skôr na ženu', 1.0)\\\n",
    "                                         .replace('Človek na obrázku sa podobá skôr na muža', 0.0)\\\n",
    "                                         .replace('Z obrázku neviem povedať, či sa človek podobá skôr na ženu, alebo na muža', 0.5)\\\n",
    "                                         .replace('Človek na obrázku sa zdá byť skôr mladší', 1.0)\\\n",
    "                                         .replace('Človek na obrázku sa zdá byť skôr starší', 0.0)\\\n",
    "                                         .replace('Z obrázku neviem povedať, či je človek skôr mladší, alebo starší', 0.5)"
   ]
  },
  {
   "cell_type": "code",
   "execution_count": null,
   "id": "simple-resort",
   "metadata": {},
   "outputs": [],
   "source": [
    "# function to create pie plots for each attribute per image, where the most common answer was bellow percentage\n",
    "# returns count of these attributes and their colnames\n",
    "def plot_less_than(df, percent):\n",
    "    colors = ['#ff9999','#66b3ff','#99ff99']\n",
    "    count = 0\n",
    "    colnames = []\n",
    "    \n",
    "    for i, colname in enumerate(df):\n",
    "        vals = df[colname].value_counts().values\n",
    "        # check if the most common value is over percentage\n",
    "        if (max(vals)/sum(vals) > percent):\n",
    "            continue\n",
    "\n",
    "        count += 1\n",
    "        #colnames.append(int(colname.split('.')[0]))\n",
    "        colnames.append(colname)\n",
    "        fig1, ax1 = plt.subplots()\n",
    "        explode = None\n",
    "\n",
    "        df[colname].value_counts().plot.pie(colors = colors, autopct='%1.1f%%', startangle=90, pctdistance=0.85, explode = explode)\n",
    "\n",
    "        # create white circle in the middle\n",
    "        centre_circle = plt.Circle((0,0),0.70,fc='white')\n",
    "        fig = plt.gcf()\n",
    "        fig.gca().add_artist(centre_circle)\n",
    "\n",
    "        ax1.axis('equal')  \n",
    "        plt.tight_layout()\n",
    "        plt.title('img-' + str(i+1))\n",
    "        plt.show()\n",
    "    \n",
    "    return (count, colnames)"
   ]
  },
  {
   "cell_type": "markdown",
   "id": "addressed-justice",
   "metadata": {},
   "source": [
    "## Uncertain values plots\n",
    "On the right of the plot, you can see the image number."
   ]
  },
  {
   "cell_type": "markdown",
   "id": "latest-chorus",
   "metadata": {},
   "source": [
    "### Eyeglasses uncertain values"
   ]
  },
  {
   "cell_type": "code",
   "execution_count": null,
   "id": "controlling-mercury",
   "metadata": {},
   "outputs": [],
   "source": [
    "threshold = 0.8\n",
    "\n",
    "eyeglasses_count, eyeglasses_colnames = plot_less_than(responses_1cat, threshold)\n",
    "df_cat1_neutral_count = pd.DataFrame({'Only Eyeglasses': [eyeglasses_count]},['Eyeglasses'])"
   ]
  },
  {
   "cell_type": "markdown",
   "id": "bronze-equilibrium",
   "metadata": {},
   "source": [
    "### Beard + Male uncertain values"
   ]
  },
  {
   "cell_type": "code",
   "execution_count": null,
   "id": "driving-tackle",
   "metadata": {},
   "outputs": [],
   "source": [
    "male_count, male_colnames = plot_less_than(responses_2cat[responses_2cat.columns[::2]], threshold)\n",
    "beard_count, beard_colnames = plot_less_than(responses_2cat[responses_2cat.columns[1::2]], threshold)\n",
    "\n",
    "df_cat2_neutral_count = pd.DataFrame({'Male and beard': [beard_count, male_count]}, ['Male', 'Beard'])"
   ]
  },
  {
   "cell_type": "markdown",
   "id": "musical-diving",
   "metadata": {},
   "source": [
    "### Smile + young + female uncertain values"
   ]
  },
  {
   "cell_type": "code",
   "execution_count": null,
   "id": "revolutionary-coordinate",
   "metadata": {},
   "outputs": [],
   "source": [
    "smile_count, smile_colnames = plot_less_than(responses_3cat[responses_3cat.columns[::3]], threshold)\n",
    "young_count, young_colnames = plot_less_than(responses_3cat[responses_3cat.columns[2::3]], threshold)\n",
    "female_count, female_colnames = plot_less_than(responses_3cat[responses_3cat.columns[1::3]], threshold)\n",
    "\n",
    "df_cat3_neutral_count = pd.DataFrame({'Smile, young and female': [smile_count, young_count, female_count]}, ['Smile', 'Young', 'Female'])"
   ]
  },
  {
   "cell_type": "markdown",
   "id": "animal-estimate",
   "metadata": {},
   "source": [
    "## Uncertain values counts"
   ]
  },
  {
   "cell_type": "code",
   "execution_count": null,
   "id": "coral-regular",
   "metadata": {},
   "outputs": [],
   "source": [
    "df_cat1_neutral_count"
   ]
  },
  {
   "cell_type": "code",
   "execution_count": null,
   "id": "affiliated-raise",
   "metadata": {},
   "outputs": [],
   "source": [
    "df_cat2_neutral_count"
   ]
  },
  {
   "cell_type": "code",
   "execution_count": null,
   "id": "certain-superior",
   "metadata": {},
   "outputs": [],
   "source": [
    "df_cat3_neutral_count"
   ]
  },
  {
   "cell_type": "code",
   "execution_count": null,
   "id": "collaborative-image",
   "metadata": {},
   "outputs": [],
   "source": [
    "print('Not relevant responses count: ' + str(male_count + beard_count + eyeglasses_count + smile_count + young_count + female_count))"
   ]
  },
  {
   "cell_type": "code",
   "execution_count": null,
   "id": "successful-little",
   "metadata": {},
   "outputs": [],
   "source": [
    "# Drop unrelevant columns\n",
    "relevant_responses_1cat = responses_1cat.drop(eyeglasses_colnames, 1)\n",
    "relevant_responses_2cat = responses_2cat.drop(male_colnames + beard_colnames, 1) \n",
    "relevant_responses_3cat = responses_3cat.drop(smile_colnames + young_colnames + female_colnames, 1)"
   ]
  },
  {
   "cell_type": "code",
   "execution_count": null,
   "id": "emotional-testimony",
   "metadata": {},
   "outputs": [],
   "source": [
    "# split to linear (1-9) and tanh methods (11-19)\n",
    "def split_methods(df):\n",
    "    linear = df.filter(regex='^[1-9]\\.')\n",
    "    arctanh = df.filter(regex='^(1[1-9])')\n",
    "    \n",
    "    return (linear, arctanh)"
   ]
  },
  {
   "cell_type": "code",
   "execution_count": null,
   "id": "explicit-regular",
   "metadata": {},
   "outputs": [],
   "source": [
    "linear_1cat, arctanh_1cat = split_methods(relevant_responses_1cat)\n",
    "linear_2cat, arctanh_2cat = split_methods(relevant_responses_2cat)\n",
    "linear_3cat, arctanh_3cat = split_methods(relevant_responses_3cat)"
   ]
  },
  {
   "cell_type": "code",
   "execution_count": null,
   "id": "synthetic-vocabulary",
   "metadata": {},
   "outputs": [],
   "source": [
    "# get accuracy for each attribute separately, by counting 1\n",
    "def get_accuracy(attributes):\n",
    "    acc = []\n",
    "    for attr in attributes:\n",
    "        val = 0 \n",
    "        counter = 0\n",
    "\n",
    "        for colname in attr:\n",
    "            val += attr[colname].mode().values[0]\n",
    "            counter += 1\n",
    "\n",
    "        acc.append(val/counter*100)\n",
    "        \n",
    "    return acc"
   ]
  },
  {
   "cell_type": "markdown",
   "id": "absent-tobacco",
   "metadata": {},
   "source": [
    "## Accuracy per image per relevant attribute answer"
   ]
  },
  {
   "cell_type": "code",
   "execution_count": null,
   "id": "interesting-motorcycle",
   "metadata": {},
   "outputs": [],
   "source": [
    "pd.DataFrame({'Eyeglasses': [get_accuracy([linear_1cat])[0], get_accuracy([arctanh_1cat])[0]]}, ['Linear', 'Arctanh'])"
   ]
  },
  {
   "cell_type": "code",
   "execution_count": null,
   "id": "eastern-blake",
   "metadata": {},
   "outputs": [],
   "source": [
    "linear = get_accuracy([linear_2cat.filter(regex='muža'), linear_2cat.filter(regex='bradu')])\n",
    "arctanh = get_accuracy([arctanh_2cat.filter(regex='muža'), arctanh_2cat.filter(regex='bradu')])\n",
    "pd.DataFrame({'Male': [linear[0], arctanh[0]], 'Beard': [linear[1], arctanh[1]]}, ['Linear', 'Arctanh'])"
   ]
  },
  {
   "cell_type": "code",
   "execution_count": null,
   "id": "musical-heavy",
   "metadata": {},
   "outputs": [],
   "source": [
    "linear = get_accuracy([linear_3cat.filter(regex='Usmieva'), linear_3cat.filter(regex='muža'), linear_3cat.filter(regex='starší')])\n",
    "arctanh = get_accuracy([arctanh_3cat.filter(regex='Usmieva'), arctanh_3cat.filter(regex='muža'), arctanh_3cat.filter(regex='starší')])\n",
    "pd.DataFrame({'Smile': [linear[0], arctanh[0]], 'Female': [linear[1], arctanh[1]], 'Young': [linear[2], arctanh[2]]}, ['Linear', 'Arctanh'])"
   ]
  },
  {
   "cell_type": "code",
   "execution_count": null,
   "id": "useful-client",
   "metadata": {},
   "outputs": [],
   "source": [
    "# # this is just for thesis figure\n",
    "# thesis_df = responses_3cat['2. Usmieva sa človek na obrázku?'].rename('')\n",
    "# my_dpi = 120\n",
    "# fig1, ax1 = plt.subplots(figsize=(1024/my_dpi, 1024/my_dpi), dpi=my_dpi)\n",
    "# explode = None\n",
    "# colors = ['#ff9999','#66b3ff','#99ff99']\n",
    "\n",
    "# thesis_df.value_counts().plot.pie(colors = colors, autopct='%1.1f%%', startangle=90, pctdistance=0.85, explode = explode, textprops={'fontsize': 20, 'fontweight': 'bold'})\n",
    "\n",
    "# centre_circle = plt.Circle((0,0),0.70,fc='white')\n",
    "# fig = plt.gcf()\n",
    "# fig.gca().add_artist(centre_circle)\n",
    "\n",
    "# ax1.axis('equal')\n",
    "# plt.tight_layout()\n",
    "# plt.title('Is the person on the image smiling?', y=0.95, fontsize=26, fontweight='bold')\n",
    "# plt.show()"
   ]
  },
  {
   "cell_type": "markdown",
   "id": "specialized-breach",
   "metadata": {},
   "source": [
    "Now we are going to count every anwswer per image"
   ]
  },
  {
   "cell_type": "code",
   "execution_count": null,
   "id": "central-demand",
   "metadata": {},
   "outputs": [],
   "source": [
    "linear_1cat, arctanh_1cat = split_methods(responses_1cat)\n",
    "linear_2cat, arctanh_2cat = split_methods(responses_2cat)\n",
    "linear_3cat, arctanh_3cat = split_methods(responses_3cat)"
   ]
  },
  {
   "cell_type": "code",
   "execution_count": null,
   "id": "clean-throw",
   "metadata": {},
   "outputs": [],
   "source": [
    "def get_accuracy_one(df_one):\n",
    "    val = 0\n",
    "    for one_colname in df_one:\n",
    "        if df_one[one_colname].mode().values[0] == 1.0:\n",
    "            val += 1\n",
    "    \n",
    "    return val/9*100"
   ]
  },
  {
   "cell_type": "code",
   "execution_count": null,
   "id": "acting-collar",
   "metadata": {},
   "outputs": [],
   "source": [
    "def get_accuracy_two(df_one, df_two):\n",
    "    val = 0\n",
    "    for one_colname in df_one:\n",
    "        for two_colname in df_two:\n",
    "            if int(one_colname.split('.')[0]) == int(two_colname.split('.')[0]):\n",
    "                if df_one[one_colname].mode().values[0] == 1.0 and df_two[two_colname].mode().values[0] == 1.0:\n",
    "                    val += 1            \n",
    "    return val/9*100"
   ]
  },
  {
   "cell_type": "code",
   "execution_count": null,
   "id": "automated-quarter",
   "metadata": {},
   "outputs": [],
   "source": [
    "def get_accuracy_three(df_one, df_two, df_three):\n",
    "    val = 0\n",
    "    for one_colname in df_one:\n",
    "        for two_colname in df_two:\n",
    "            for three_colname in df_three:\n",
    "                if int(one_colname.split('.')[0]) == int(two_colname.split('.')[0]) == int(three_colname.split('.')[0]):\n",
    "                    if df_one[one_colname].mode().values[0] == 1.0 and df_two[two_colname].mode().values[0] == 1.0 and df_three[three_colname].mode().values[0] == 1.0:\n",
    "                        val += 1            \n",
    "    return val/9*100"
   ]
  },
  {
   "cell_type": "code",
   "execution_count": null,
   "id": "assisted-boating",
   "metadata": {},
   "outputs": [],
   "source": [
    "linear = get_accuracy_one(linear_1cat)\n",
    "arctanh = get_accuracy_one(arctanh_1cat)\n",
    "pd.DataFrame({'Eyeglasses': [linear, arctanh]}, ['Linear', 'Arctanh'])"
   ]
  },
  {
   "cell_type": "code",
   "execution_count": null,
   "id": "continuing-magazine",
   "metadata": {},
   "outputs": [],
   "source": [
    "linear = get_accuracy_two(linear_2cat.filter(regex='muža'), linear_2cat.filter(regex='bradu'))\n",
    "arctanh = get_accuracy_two(arctanh_2cat.filter(regex='muža'), arctanh_2cat.filter(regex='bradu'))\n",
    "pd.DataFrame({'Male and Beard': [linear, arctanh]}, ['Linear', 'Arctanh'])"
   ]
  },
  {
   "cell_type": "code",
   "execution_count": null,
   "id": "biblical-occurrence",
   "metadata": {},
   "outputs": [],
   "source": [
    "linear = get_accuracy_three(linear_3cat.filter(regex='Usmieva'), linear_3cat.filter(regex='muža'), linear_3cat.filter(regex='starší'))\n",
    "arctanh = get_accuracy_three(arctanh_3cat.filter(regex='Usmieva'), arctanh_3cat.filter(regex='muža'), arctanh_3cat.filter(regex='starší'))\n",
    "pd.DataFrame({'Smile, Female and Young': [linear, arctanh]}, ['Linear', 'Arctanh'])"
   ]
  },
  {
   "cell_type": "markdown",
   "id": "basic-hopkins",
   "metadata": {},
   "source": [
    "## This is the end! Thank you!\n",
    "This was just a preview of results that we would like to share as an appendix to our thesis.\n",
    "\n",
    "We have created also an unofficial repo, that is full of experiments and uncommented code. Proceed with caution."
   ]
  }
 ],
 "metadata": {
  "kernelspec": {
   "display_name": "Python 3",
   "language": "python",
   "name": "python3"
  },
  "language_info": {
   "codemirror_mode": {
    "name": "ipython",
    "version": 3
   },
   "file_extension": ".py",
   "mimetype": "text/x-python",
   "name": "python",
   "nbconvert_exporter": "python",
   "pygments_lexer": "ipython3",
   "version": "3.7.9"
  }
 },
 "nbformat": 4,
 "nbformat_minor": 5
}
