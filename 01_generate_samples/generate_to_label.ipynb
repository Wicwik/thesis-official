{
 "cells": [
  {
   "cell_type": "markdown",
   "id": "wound-insulation",
   "metadata": {},
   "source": [
    "# 1. Generate StyleGAN2 images\n",
    "Generates random images from pretrained StyleGAN2 ffhq-config-f.\n",
    "\n",
    "Details about configuration can be found in [official implemetation repository](https://github.com/NVlabs/stylegan2)."
   ]
  },
  {
   "cell_type": "code",
   "execution_count": null,
   "id": "polyphonic-pickup",
   "metadata": {},
   "outputs": [],
   "source": [
    "from src.stylegan_generator import StyleGANGenerator\n",
    "from tqdm import tqdm\n",
    "from pathlib import Path\n",
    "\n",
    "import cv2\n",
    "import h5py\n",
    "import numpy as np\n",
    "import matplotlib.pyplot as plt"
   ]
  },
  {
   "cell_type": "markdown",
   "id": "naughty-advancement",
   "metadata": {},
   "source": [
    "Generated 250 000 radnom images. To change to amount of images generated, change either **\\_batch_size** or **\\_n_batch**.\n",
    "\n",
    "Number of generated images is therefore **\\_batch_size** \\* **\\_n_batch**.\n",
    "\n",
    "If you have more RAM available, we recommend to increase the **\\_batch_size** (works fine/tested with 16GB RAM on 16 images per batch)."
   ]
  },
  {
   "cell_type": "code",
   "execution_count": null,
   "id": "unsigned-reserve",
   "metadata": {},
   "outputs": [],
   "source": [
    "_stylegan_ffhq_f_gdrive_url = 'https://nvlabs-fi-cdn.nvidia.com/stylegan2/networks/stylegan2-ffhq-config-f.pkl'\n",
    "\n",
    "_image_size = (178, 218)\n",
    "_img_dir = 'img/to_label/'\n",
    "_noise_vector_dir = 'noise_vectors/'\n",
    "\n",
    "_batch_size = 8\n",
    "_n_batch = 32000"
   ]
  },
  {
   "cell_type": "code",
   "execution_count": null,
   "id": "alien-change",
   "metadata": {},
   "outputs": [],
   "source": [
    "Path(_img_dir).mkdir(parents=True, exist_ok=True)\n",
    "Path(_noise_vector_dir).mkdir(parents=True, exist_ok=True)"
   ]
  },
  {
   "cell_type": "markdown",
   "id": "outer-feature",
   "metadata": {},
   "source": [
    "## A) Generate images from scratch\n",
    "Create directories and initialize SyleGAN2 generator."
   ]
  },
  {
   "cell_type": "code",
   "execution_count": null,
   "id": "eleven-mouth",
   "metadata": {},
   "outputs": [],
   "source": [
    "rnd = np.random.RandomState()\n",
    "gen = StyleGANGenerator(_stylegan_ffhq_f_gdrive_url)"
   ]
  },
  {
   "cell_type": "code",
   "execution_count": null,
   "id": "acquired-improvement",
   "metadata": {},
   "outputs": [],
   "source": [
    "z_list = []\n",
    "\n",
    "for i in tqdm(range(_n_batch)):\n",
    "    # for eatch batch generate _batch_size of random noise vectors\n",
    "    latents = rnd.randn(_batch_size, *gen.Gs.input_shape[1:])\n",
    "    z_list.append(latents) # append to the z_list for saving to HDD\n",
    "    \n",
    "    imgs = gen.get_images(latents) # generate _batch_size of images\n",
    "    # resize images using lanczos interpolation\n",
    "    imgs = np.asarray([cv2.resize(img, dsize=_image_size, interpolation=cv2.INTER_LANCZOS4) for img in imgs])\n",
    "    \n",
    "    # save each image to _img_dir\n",
    "    for j, img in enumerate(imgs):\n",
    "        img = cv2.cvtColor(img, cv2.COLOR_RGB2BGR) # conversion from CV2 BGR default colors to RGB\n",
    "        cv2.imwrite(_img_dir + 'img-{:06d}.png'.format(i*_batch_size+j), img)"
   ]
  },
  {
   "cell_type": "markdown",
   "id": "twelve-transformation",
   "metadata": {},
   "source": [
    "Save and load saved noise vectors."
   ]
  },
  {
   "cell_type": "code",
   "execution_count": null,
   "id": "amended-greenhouse",
   "metadata": {},
   "outputs": [],
   "source": [
    "z_concat = np.concatenate(z_list, axis=0)\n",
    "z_concat.shape"
   ]
  },
  {
   "cell_type": "code",
   "execution_count": null,
   "id": "short-closure",
   "metadata": {},
   "outputs": [],
   "source": [
    "with h5py.File(_noise_vector_dir + 'sample_z.h5', 'w') as f:\n",
    "    f.create_dataset('z', data=z_concat)"
   ]
  },
  {
   "cell_type": "code",
   "execution_count": null,
   "id": "occupied-administration",
   "metadata": {},
   "outputs": [],
   "source": [
    "with h5py.File(_noise_vector_dir + 'sample_z.h5', 'r') as f:\n",
    "    z = f['z'][:]"
   ]
  },
  {
   "cell_type": "code",
   "execution_count": null,
   "id": "indian-organizer",
   "metadata": {},
   "outputs": [],
   "source": [
    "img = gen.get_images(np.reshape(z[44], (1,512)))\n",
    "plt.imshow(img[0]/255)"
   ]
  },
  {
   "cell_type": "markdown",
   "id": "random-migration",
   "metadata": {},
   "source": [
    "## B) Generate images from downloaded noise vectors\n",
    "\n",
    "Download file of 250 000 radnom noise vectors."
   ]
  },
  {
   "cell_type": "code",
   "execution_count": null,
   "id": "south-harvest",
   "metadata": {},
   "outputs": [],
   "source": [
    "! cd noise_vectors && wget -nc data.belanec.eu/noise_vectors/sample_z.h5"
   ]
  },
  {
   "cell_type": "markdown",
   "id": "weird-unemployment",
   "metadata": {},
   "source": [
    "Open the file."
   ]
  },
  {
   "cell_type": "code",
   "execution_count": null,
   "id": "organized-adult",
   "metadata": {},
   "outputs": [],
   "source": [
    "with h5py.File(_noise_vector_dir + 'sample_z.h5', 'r') as f:\n",
    "    z = f['z'][:]"
   ]
  },
  {
   "cell_type": "code",
   "execution_count": null,
   "id": "infectious-briefs",
   "metadata": {},
   "outputs": [],
   "source": [
    "gen = StyleGANGenerator(_stylegan_ffhq_f_gdrive_url)\n",
    "\n",
    "for i in tqdm(range(len(z))):\n",
    "    # generate image\n",
    "    img = gen.get_images(np.reshape(z[i], (1,512)))\n",
    "    \n",
    "    # resize images using lanczos interpolation\n",
    "    img = cv2.resize(img[0], dsize=_image_size, interpolation=cv2.INTER_LANCZOS4)\n",
    "    img = cv2.cvtColor(img, cv2.COLOR_RGB2BGR) # conversion from CV2 BGR default colors to RGB\n",
    "    cv2.imwrite(_img_dir + 'img-{:06d}.png'.format(i), img) # save image"
   ]
  },
  {
   "cell_type": "markdown",
   "id": "chinese-soundtrack",
   "metadata": {},
   "source": [
    "## Next notebook\n",
    "Continue to 02_classifiers (we recommend to start with InceptionV3 classifier)."
   ]
  }
 ],
 "metadata": {
  "kernelspec": {
   "display_name": "Python 3",
   "language": "python",
   "name": "python3"
  },
  "language_info": {
   "codemirror_mode": {
    "name": "ipython",
    "version": 3
   },
   "file_extension": ".py",
   "mimetype": "text/x-python",
   "name": "python",
   "nbconvert_exporter": "python",
   "pygments_lexer": "ipython3",
   "version": "3.7.9"
  }
 },
 "nbformat": 4,
 "nbformat_minor": 5
}
