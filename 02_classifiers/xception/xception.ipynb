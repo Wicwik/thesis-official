{
 "cells": [
  {
   "cell_type": "markdown",
   "id": "champion-dylan",
   "metadata": {},
   "source": [
    "# 2. Classify images with Xception\n",
    "\n",
    "Trained on CelebA [dataset](http://mmlab.ie.cuhk.edu.hk/projects/CelebA.html)."
   ]
  },
  {
   "cell_type": "code",
   "execution_count": 1,
   "id": "instant-singapore",
   "metadata": {},
   "outputs": [
    {
     "name": "stderr",
     "output_type": "stream",
     "text": [
      "Using TensorFlow backend.\n"
     ]
    }
   ],
   "source": [
    "import os\n",
    "\n",
    "import pandas as pd\n",
    "import numpy as np\n",
    "import cv2\n",
    "import matplotlib.pyplot as plt\n",
    "\n",
    "import keras\n",
    "from keras.preprocessing.image import ImageDataGenerator\n",
    "from keras.callbacks import ModelCheckpoint\n",
    "from keras.applications import Xception\n",
    "from keras import layers\n",
    "from keras.applications.xception import preprocess_input\n",
    "\n",
    "from sklearn.metrics import f1_score\n",
    "from sklearn.metrics import accuracy_score"
   ]
  },
  {
   "cell_type": "markdown",
   "id": "operating-aspect",
   "metadata": {},
   "source": [
    "## Xception training and testing\n",
    "\n",
    "CelebA dataset has to be downloaded manualy from [google drive](https://drive.google.com/drive/folders/0B7EVK8r0v71pbWNEUjJKdDQ3dGc?usp=sharing).\n",
    "\n",
    "Extract the archives and specify the path to the dataset in **\\_image_dir** variable.\n",
    "\n",
    "**\\_num_epochs** or **\\_batch_size** can be custom specified.\n",
    "\n",
    "You can also specify the **\\_attributes** you want to train on, but we recommend the default for the first run."
   ]
  },
  {
   "cell_type": "code",
   "execution_count": 2,
   "id": "optional-trailer",
   "metadata": {},
   "outputs": [],
   "source": [
    "_image_dir = '/data/rbelanec/datasets/celeba/img_align_celeba_png/' # replace this with path to raw CelebA dataset\n",
    "_img_width = 128\n",
    "_img_height = 128\n",
    "_batch_size = 20\n",
    "_num_epochs = 10\n",
    "_attributes = ['Eyeglasses', 'Smiling', 'Male', 'No_Beard', 'Young']\n",
    "_weights_name = 'weights/weights_xception_5attr.h5'"
   ]
  },
  {
   "cell_type": "markdown",
   "id": "suffering-mortality",
   "metadata": {},
   "source": [
    "### Data preparation\n",
    "Select only desired attributes, add partition to each image and add fullpath to images.\n",
    "\n",
    "This partitiong is recommended by CelebA dataset authors."
   ]
  },
  {
   "cell_type": "code",
   "execution_count": 4,
   "id": "decimal-composite",
   "metadata": {},
   "outputs": [
    {
     "data": {
      "text/html": [
       "<div>\n",
       "<style scoped>\n",
       "    .dataframe tbody tr th:only-of-type {\n",
       "        vertical-align: middle;\n",
       "    }\n",
       "\n",
       "    .dataframe tbody tr th {\n",
       "        vertical-align: top;\n",
       "    }\n",
       "\n",
       "    .dataframe thead th {\n",
       "        text-align: right;\n",
       "    }\n",
       "</style>\n",
       "<table border=\"1\" class=\"dataframe\">\n",
       "  <thead>\n",
       "    <tr style=\"text-align: right;\">\n",
       "      <th></th>\n",
       "      <th>filename</th>\n",
       "      <th>Eyeglasses</th>\n",
       "      <th>Smiling</th>\n",
       "      <th>Male</th>\n",
       "      <th>No_Beard</th>\n",
       "      <th>Young</th>\n",
       "      <th>partition</th>\n",
       "    </tr>\n",
       "  </thead>\n",
       "  <tbody>\n",
       "    <tr>\n",
       "      <th>0</th>\n",
       "      <td>/data/rbelanec/datasets/celeba/img_align_celeb...</td>\n",
       "      <td>0</td>\n",
       "      <td>1</td>\n",
       "      <td>0</td>\n",
       "      <td>1</td>\n",
       "      <td>1</td>\n",
       "      <td>0</td>\n",
       "    </tr>\n",
       "    <tr>\n",
       "      <th>1</th>\n",
       "      <td>/data/rbelanec/datasets/celeba/img_align_celeb...</td>\n",
       "      <td>0</td>\n",
       "      <td>1</td>\n",
       "      <td>0</td>\n",
       "      <td>1</td>\n",
       "      <td>1</td>\n",
       "      <td>0</td>\n",
       "    </tr>\n",
       "    <tr>\n",
       "      <th>2</th>\n",
       "      <td>/data/rbelanec/datasets/celeba/img_align_celeb...</td>\n",
       "      <td>0</td>\n",
       "      <td>0</td>\n",
       "      <td>1</td>\n",
       "      <td>1</td>\n",
       "      <td>1</td>\n",
       "      <td>0</td>\n",
       "    </tr>\n",
       "    <tr>\n",
       "      <th>3</th>\n",
       "      <td>/data/rbelanec/datasets/celeba/img_align_celeb...</td>\n",
       "      <td>0</td>\n",
       "      <td>0</td>\n",
       "      <td>0</td>\n",
       "      <td>1</td>\n",
       "      <td>1</td>\n",
       "      <td>0</td>\n",
       "    </tr>\n",
       "    <tr>\n",
       "      <th>4</th>\n",
       "      <td>/data/rbelanec/datasets/celeba/img_align_celeb...</td>\n",
       "      <td>0</td>\n",
       "      <td>0</td>\n",
       "      <td>0</td>\n",
       "      <td>1</td>\n",
       "      <td>1</td>\n",
       "      <td>0</td>\n",
       "    </tr>\n",
       "  </tbody>\n",
       "</table>\n",
       "</div>"
      ],
      "text/plain": [
       "                                            filename  Eyeglasses  Smiling  \\\n",
       "0  /data/rbelanec/datasets/celeba/img_align_celeb...           0        1   \n",
       "1  /data/rbelanec/datasets/celeba/img_align_celeb...           0        1   \n",
       "2  /data/rbelanec/datasets/celeba/img_align_celeb...           0        0   \n",
       "3  /data/rbelanec/datasets/celeba/img_align_celeb...           0        0   \n",
       "4  /data/rbelanec/datasets/celeba/img_align_celeb...           0        0   \n",
       "\n",
       "   Male  No_Beard  Young  partition  \n",
       "0     0         1      1          0  \n",
       "1     0         1      1          0  \n",
       "2     1         1      1          0  \n",
       "3     0         1      1          0  \n",
       "4     0         1      1          0  "
      ]
     },
     "execution_count": 4,
     "metadata": {},
     "output_type": "execute_result"
    }
   ],
   "source": [
    "img_df = pd.read_csv('../dataset/celeba/attr_celeba.csv').replace({-1:0})[['filename'] + _attributes]\n",
    "partition_df = pd.read_csv('../dataset/celeba/list_eval_partition.csv')\n",
    "\n",
    "img_df = img_df.merge(partition_df, on='filename') # add partition merge dataframes on filename\n",
    "img_df.loc[:, 'filename'] = img_df.loc[:, 'filename'].apply(lambda x: os.path.join(_image_dir, x)) # full path\n",
    "img_df.head()"
   ]
  },
  {
   "cell_type": "code",
   "execution_count": 5,
   "id": "portable-prairie",
   "metadata": {},
   "outputs": [],
   "source": [
    "# split to train, valid and test based on partitions\n",
    "train_df = img_df.loc[img_df.loc[:, 'partition'] == 0, ['filename'] + _attributes]\n",
    "valid_df = img_df.loc[img_df.loc[:, 'partition'] == 1, ['filename'] + _attributes]\n",
    "test_df = img_df.loc[img_df.loc[:, 'partition'] == 2,  ['filename'] + _attributes]"
   ]
  },
  {
   "cell_type": "markdown",
   "id": "attached-projection",
   "metadata": {},
   "source": [
    "We are using ImageDataGenerators to load dataset from dataframe."
   ]
  },
  {
   "cell_type": "code",
   "execution_count": 7,
   "id": "breathing-synthesis",
   "metadata": {},
   "outputs": [
    {
     "name": "stdout",
     "output_type": "stream",
     "text": [
      "Found 162770 non-validated image filenames.\n"
     ]
    }
   ],
   "source": [
    "train_datagen =  ImageDataGenerator(\n",
    "    preprocessing_function=preprocess_input,\n",
    "    rescale=1./255,\n",
    ")\n",
    "\n",
    "train_generator = train_datagen.flow_from_dataframe(\n",
    "    train_df,\n",
    "    batch_size=_batch_size,\n",
    "    x_col='filename', \n",
    "    y_col=_attributes,\n",
    "    class_mode='raw',\n",
    "    target_size=(_img_width, _img_height),\n",
    "    validate_filenames=False)"
   ]
  },
  {
   "cell_type": "code",
   "execution_count": 8,
   "id": "looking-receipt",
   "metadata": {},
   "outputs": [
    {
     "name": "stdout",
     "output_type": "stream",
     "text": [
      "Found 19867 non-validated image filenames.\n"
     ]
    }
   ],
   "source": [
    "valid_datagen =  ImageDataGenerator(\n",
    "    preprocessing_function=preprocess_input,\n",
    "    rescale=1./255\n",
    ")\n",
    "\n",
    "valid_generator = valid_datagen.flow_from_dataframe(\n",
    "    valid_df,\n",
    "    batch_size=_batch_size,\n",
    "    x_col='filename', \n",
    "    y_col=_attributes,\n",
    "    class_mode='raw',\n",
    "    target_size=(_img_width, _img_height),\n",
    "    validate_filenames=False)"
   ]
  },
  {
   "cell_type": "markdown",
   "id": "critical-boundary",
   "metadata": {},
   "source": [
    "### Model creation\n",
    "Xception base model is pretrained on imagenet dataset."
   ]
  },
  {
   "cell_type": "code",
   "execution_count": 7,
   "id": "gross-calgary",
   "metadata": {},
   "outputs": [
    {
     "name": "stdout",
     "output_type": "stream",
     "text": [
      "WARNING:tensorflow:From /home/rbelanec/anaconda3/envs/BP/lib/python3.7/site-packages/tensorflow_core/python/ops/resource_variable_ops.py:1630: calling BaseResourceVariable.__init__ (from tensorflow.python.ops.resource_variable_ops) with constraint is deprecated and will be removed in a future version.\n",
      "Instructions for updating:\n",
      "If using Keras pass *_constraint arguments to layers.\n",
      "WARNING:tensorflow:From /home/rbelanec/anaconda3/envs/BP/lib/python3.7/site-packages/keras/backend/tensorflow_backend.py:4070: The name tf.nn.max_pool is deprecated. Please use tf.nn.max_pool2d instead.\n",
      "\n"
     ]
    }
   ],
   "source": [
    "base_model = Xception(\n",
    "             input_shape=(_img_width, _img_height, 3), \n",
    "             include_top=False, \n",
    "             weights=\"imagenet\"\n",
    "        )"
   ]
  },
  {
   "cell_type": "markdown",
   "id": "surprising-final",
   "metadata": {},
   "source": [
    "Adding average pooling layer and output layer."
   ]
  },
  {
   "cell_type": "code",
   "execution_count": 8,
   "id": "complimentary-avatar",
   "metadata": {},
   "outputs": [],
   "source": [
    "x = base_model.output\n",
    "x = layers.GlobalAveragePooling2D()(x)\n",
    "outputs = layers.Dense(len(_attributes), activation=\"sigmoid\")(x)"
   ]
  },
  {
   "cell_type": "markdown",
   "id": "likely-appointment",
   "metadata": {},
   "source": [
    "Compile model. Learning rate can be also custom specified, but for the first run, we recommend the default value."
   ]
  },
  {
   "cell_type": "code",
   "execution_count": 9,
   "id": "floating-valve",
   "metadata": {},
   "outputs": [
    {
     "name": "stdout",
     "output_type": "stream",
     "text": [
      "WARNING:tensorflow:From /home/rbelanec/anaconda3/envs/BP/lib/python3.7/site-packages/tensorflow_core/python/ops/nn_impl.py:183: where (from tensorflow.python.ops.array_ops) is deprecated and will be removed in a future version.\n",
      "Instructions for updating:\n",
      "Use tf.where in 2.0, which has the same broadcast rule as np.where\n"
     ]
    }
   ],
   "source": [
    "model = keras.Model(inputs=base_model.input, outputs=outputs)\n",
    "model.compile(optimizer=keras.optimizers.Adam(lr=0.0001), loss='binary_crossentropy', metrics=['accuracy'])"
   ]
  },
  {
   "cell_type": "markdown",
   "id": "spread-michael",
   "metadata": {},
   "source": [
    "Save best validation loss."
   ]
  },
  {
   "cell_type": "code",
   "execution_count": null,
   "id": "round-neutral",
   "metadata": {},
   "outputs": [],
   "source": [
    "checkpointer = ModelCheckpoint(filepath=_weights_name, verbose=1, save_best_only=True)"
   ]
  },
  {
   "cell_type": "markdown",
   "id": "uniform-aquatic",
   "metadata": {},
   "source": [
    "### Model training"
   ]
  },
  {
   "cell_type": "code",
   "execution_count": 12,
   "id": "consistent-aberdeen",
   "metadata": {},
   "outputs": [
    {
     "name": "stdout",
     "output_type": "stream",
     "text": [
      "Epoch 1/10\n",
      "8138/8138 [==============================] - 893s 110ms/step - loss: 0.1093 - accuracy: 0.9561 - val_loss: 0.1190 - val_accuracy: 0.9492\n",
      "\n",
      "Epoch 00001: val_loss improved from inf to 0.11899, saving model to weights.Eyeglasses_xception2.h5\n",
      "Epoch 2/10\n",
      "8138/8138 [==============================] - 925s 114ms/step - loss: 0.0867 - accuracy: 0.9652 - val_loss: 0.1662 - val_accuracy: 0.9489\n",
      "\n",
      "Epoch 00002: val_loss did not improve from 0.11899\n",
      "Epoch 3/10\n",
      "8138/8138 [==============================] - 967s 119ms/step - loss: 0.0602 - accuracy: 0.9762 - val_loss: 0.1619 - val_accuracy: 0.9473\n",
      "\n",
      "Epoch 00003: val_loss did not improve from 0.11899\n",
      "Epoch 4/10\n",
      "8138/8138 [==============================] - 889s 109ms/step - loss: 0.0379 - accuracy: 0.9854 - val_loss: 0.0689 - val_accuracy: 0.9451\n",
      "\n",
      "Epoch 00004: val_loss improved from 0.11899 to 0.06888, saving model to weights.Eyeglasses_xception2.h5\n",
      "Epoch 5/10\n",
      "8138/8138 [==============================] - 906s 111ms/step - loss: 0.0274 - accuracy: 0.9896 - val_loss: 0.0980 - val_accuracy: 0.9427\n",
      "\n",
      "Epoch 00005: val_loss did not improve from 0.06888\n",
      "Epoch 6/10\n",
      "8138/8138 [==============================] - 886s 109ms/step - loss: 0.0222 - accuracy: 0.9918 - val_loss: 0.2722 - val_accuracy: 0.9440\n",
      "\n",
      "Epoch 00006: val_loss did not improve from 0.06888\n",
      "Epoch 7/10\n",
      "8138/8138 [==============================] - 889s 109ms/step - loss: 0.0192 - accuracy: 0.9929 - val_loss: 0.2551 - val_accuracy: 0.9441\n",
      "\n",
      "Epoch 00007: val_loss did not improve from 0.06888\n",
      "Epoch 8/10\n",
      "8138/8138 [==============================] - 903s 111ms/step - loss: 0.0171 - accuracy: 0.9937 - val_loss: 0.0671 - val_accuracy: 0.9420\n",
      "\n",
      "Epoch 00008: val_loss improved from 0.06888 to 0.06714, saving model to weights.Eyeglasses_xception2.h5\n",
      "Epoch 9/10\n",
      "8138/8138 [==============================] - 888s 109ms/step - loss: 0.0154 - accuracy: 0.9944 - val_loss: 0.1237 - val_accuracy: 0.9431\n",
      "\n",
      "Epoch 00009: val_loss did not improve from 0.06714\n",
      "Epoch 10/10\n",
      "8138/8138 [==============================] - 953s 117ms/step - loss: 0.0143 - accuracy: 0.9947 - val_loss: 0.1619 - val_accuracy: 0.9445\n",
      "\n",
      "Epoch 00010: val_loss did not improve from 0.06714\n"
     ]
    }
   ],
   "source": [
    "history = model.fit(train_generator,\n",
    "                    validation_data=valid_generator,\n",
    "                    steps_per_epoch=len(train_df)//_batch_size,\n",
    "                    validation_steps=len(valid_df) // _batch_size,\n",
    "                    epochs=10,\n",
    "                    callbacks=[checkpointer],\n",
    "                    verbose=1)"
   ]
  },
  {
   "cell_type": "code",
   "execution_count": 14,
   "id": "specified-today",
   "metadata": {},
   "outputs": [],
   "source": [
    "plt.figure(figsize=(18, 4))\n",
    "plt.plot(history.history['loss'], label = 'train')\n",
    "plt.plot(history.history['val_loss'], label = 'valid')\n",
    "plt.legend()\n",
    "plt.title('Loss Function')\n",
    "plt.show()"
   ]
  },
  {
   "cell_type": "code",
   "execution_count": 15,
   "id": "noble-sewing",
   "metadata": {},
   "outputs": [],
   "source": [
    "plt.figure(figsize=(18, 4))\n",
    "plt.plot(history.history['accuracy'], label = 'train')\n",
    "plt.plot(history.history['val_accuracy'], label = 'valid')\n",
    "plt.legend()\n",
    "plt.title('Accuracy')\n",
    "plt.show()"
   ]
  },
  {
   "cell_type": "markdown",
   "id": "literary-cowboy",
   "metadata": {},
   "source": [
    "### Optional: Skip Training"
   ]
  },
  {
   "cell_type": "code",
   "execution_count": 11,
   "id": "danish-student",
   "metadata": {},
   "outputs": [
    {
     "name": "stdout",
     "output_type": "stream",
     "text": [
      "File ‘weights_xception_5attr.h5’ already there; not retrieving.\r\n",
      "\r\n"
     ]
    }
   ],
   "source": [
    "! cd weights && wget -nc data.belanec.eu/xception/weights/weights_xception_5attr.h5"
   ]
  },
  {
   "cell_type": "markdown",
   "id": "flying-shock",
   "metadata": {},
   "source": [
    "### Model testing"
   ]
  },
  {
   "cell_type": "code",
   "execution_count": 10,
   "id": "executive-approval",
   "metadata": {},
   "outputs": [],
   "source": [
    "model.load_weights(_weights_name)"
   ]
  },
  {
   "cell_type": "code",
   "execution_count": 11,
   "id": "crude-morgan",
   "metadata": {},
   "outputs": [
    {
     "name": "stdout",
     "output_type": "stream",
     "text": [
      "Found 19962 non-validated image filenames.\n"
     ]
    }
   ],
   "source": [
    "test_datagen =  ImageDataGenerator(\n",
    "    preprocessing_function=preprocess_input,\n",
    "    rescale=1./255,\n",
    ")\n",
    "\n",
    "test_generator = test_datagen.flow_from_dataframe(\n",
    "    test_df,\n",
    "    batch_size=1,\n",
    "    x_col='filename', \n",
    "    y_col=attributes,\n",
    "    class_mode='raw',\n",
    "    target_size=(_img_width, _img_height),\n",
    "    validate_filenames=False,\n",
    "    shuffle=False)"
   ]
  },
  {
   "cell_type": "code",
   "execution_count": 13,
   "id": "serious-girlfriend",
   "metadata": {},
   "outputs": [
    {
     "name": "stdout",
     "output_type": "stream",
     "text": [
      "WARNING:tensorflow:From /home/rbelanec/anaconda3/envs/BP/lib/python3.7/site-packages/keras/backend/tensorflow_backend.py:422: The name tf.global_variables is deprecated. Please use tf.compat.v1.global_variables instead.\n",
      "\n"
     ]
    }
   ],
   "source": [
    "model_predictions = model.predict(test_generator)"
   ]
  },
  {
   "cell_type": "code",
   "execution_count": 16,
   "id": "governing-joining",
   "metadata": {},
   "outputs": [],
   "source": [
    "preds = np.array(model_predictions > 0.5).astype(int)"
   ]
  },
  {
   "cell_type": "code",
   "execution_count": 17,
   "id": "native-share",
   "metadata": {},
   "outputs": [
    {
     "data": {
      "text/plain": [
       "73.83027752730187"
      ]
     },
     "execution_count": 17,
     "metadata": {},
     "output_type": "execute_result"
    }
   ],
   "source": [
    "test_accuracy = 100 * accuracy_score(preds, test_df.loc[:, attributes].values)\n",
    "print('Test accuracy score: ' + str(test_accuracy))"
   ]
  },
  {
   "cell_type": "code",
   "execution_count": 18,
   "id": "specific-floating",
   "metadata": {},
   "outputs": [
    {
     "data": {
      "text/plain": [
       "0.9429356140990799"
      ]
     },
     "execution_count": 18,
     "metadata": {},
     "output_type": "execute_result"
    }
   ],
   "source": [
    "f1 = f1_score(test_df.loc[:,  attributes].values, preds, average='weighted')\n",
    "print('f1 score: ' + str(f1))"
   ]
  },
  {
   "cell_type": "markdown",
   "id": "adequate-framework",
   "metadata": {},
   "source": [
    "## Generated images classification\n",
    "\n",
    "### Data preparation"
   ]
  },
  {
   "cell_type": "code",
   "execution_count": 19,
   "id": "sunset-constraint",
   "metadata": {},
   "outputs": [
    {
     "name": "stdout",
     "output_type": "stream",
     "text": [
      "Found 256000 images belonging to 1 classes.\n"
     ]
    }
   ],
   "source": [
    "label_datagen =  ImageDataGenerator(\n",
    "    preprocessing_function=preprocess_input,\n",
    "    rescale=1./255,\n",
    ")\n",
    "\n",
    "label_generator = label_datagen.flow_from_directory(\n",
    "    '../../01_generate_samples/img', # path to generated images\n",
    "    classes=['to_label'], # to_label is the last directory\n",
    "    batch_size=1,\n",
    "    target_size=(_img_width, _img_height),\n",
    "    shuffle=False)"
   ]
  },
  {
   "cell_type": "markdown",
   "id": "deluxe-craps",
   "metadata": {},
   "source": [
    "### Label prediction"
   ]
  },
  {
   "cell_type": "code",
   "execution_count": 20,
   "id": "statewide-chart",
   "metadata": {},
   "outputs": [],
   "source": [
    "model_predictions = model.predict(label_generator)"
   ]
  },
  {
   "cell_type": "code",
   "execution_count": 31,
   "id": "widespread-receptor",
   "metadata": {},
   "outputs": [
    {
     "data": {
      "text/plain": [
       "array([2.3424625e-05, 9.7760320e-01, 3.3760071e-04, 9.9998659e-01,\n",
       "       8.0151093e-01], dtype=float32)"
      ]
     },
     "execution_count": 31,
     "metadata": {},
     "output_type": "execute_result"
    }
   ],
   "source": [
    "np.set_printoptions(formatter={'float_kind':\"{:.6f}\".format})\n",
    "print(model_predictions[0])"
   ]
  },
  {
   "cell_type": "markdown",
   "id": "imperial-ranking",
   "metadata": {},
   "source": [
    "Labels are representing a probability of: Eyeglasses, Smiling, Male, No_Beard, Young"
   ]
  },
  {
   "cell_type": "code",
   "execution_count": 27,
   "id": "narrative-camel",
   "metadata": {},
   "outputs": [],
   "source": [
    "import h5py\n",
    "with h5py.File('sample_z2.h5', 'r') as f:\n",
    "    z = f['z'][:]"
   ]
  },
  {
   "cell_type": "code",
   "execution_count": 28,
   "id": "separated-judge",
   "metadata": {},
   "outputs": [],
   "source": [
    "from custom_gen import StyleGANGenerator\n",
    "_stylegan_ffhq_f_gdrive_url = 'https://nvlabs-fi-cdn.nvidia.com/stylegan2/networks/stylegan2-ffhq-config-f.pkl'\n",
    "\n",
    "gen = StyleGANGenerator(_stylegan_ffhq_f_gdrive_url)"
   ]
  },
  {
   "cell_type": "code",
   "execution_count": 32,
   "id": "consolidated-switzerland",
   "metadata": {},
   "outputs": [
    {
     "data": {
      "text/plain": [
       "<matplotlib.image.AxesImage at 0x7f6f70f0bb10>"
      ]
     },
     "execution_count": 32,
     "metadata": {},
     "output_type": "execute_result"
    },
    {
     "data": {
      "image/png": "[encoded data removed]",
      "text/plain": [
       "<Figure size 432x288 with 1 Axes>"
      ]
     },
     "metadata": {
      "needs_background": "light"
     },
     "output_type": "display_data"
    }
   ],
   "source": [
    "img = gen.get_images(np.reshape(z[0], (1,512)))\n",
    "plt.imshow(img[0]/255)"
   ]
  },
  {
   "cell_type": "markdown",
   "id": "ordinary-korean",
   "metadata": {},
   "source": [
    "Predictions for the image above: \n",
    "- Eyeglasses: **2.3424625e-05** \n",
    "- Smiling: **9.7760320e-01** \n",
    "- Male: **3.3760071e-04**\n",
    "- No_Beard: **9.9998659e-01**\n",
    "- Young: **8.0151093e-01**"
   ]
  },
  {
   "cell_type": "code",
   "execution_count": 33,
   "id": "printable-marks",
   "metadata": {},
   "outputs": [],
   "source": [
    "import pickle\n",
    "with open('predictions/predictions_xception_5attr.pkl', 'wb') as f:\n",
    "    pickle.dump(model_predictions, f)"
   ]
  },
  {
   "cell_type": "markdown",
   "id": "returning-liechtenstein",
   "metadata": {},
   "source": [
    "## Next notebook\n",
    "Continue to 03_regress_feature_axis."
   ]
  }
 ],
 "metadata": {
  "kernelspec": {
   "display_name": "Python 3",
   "language": "python",
   "name": "python3"
  },
  "language_info": {
   "codemirror_mode": {
    "name": "ipython",
    "version": 3
   },
   "file_extension": ".py",
   "mimetype": "text/x-python",
   "name": "python",
   "nbconvert_exporter": "python",
   "pygments_lexer": "ipython3",
   "version": "3.7.9"
  }
 },
 "nbformat": 4,
 "nbformat_minor": 5
}
