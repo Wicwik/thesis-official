{
 "cells": [
  {
   "cell_type": "markdown",
   "id": "champion-dylan",
   "metadata": {},
   "source": [
    "# 2. Classify images with Xception\n",
    "\n",
    "Trained on CelebA [dataset](http://mmlab.ie.cuhk.edu.hk/projects/CelebA.html)."
   ]
  },
  {
   "cell_type": "code",
   "execution_count": null,
   "id": "instant-singapore",
   "metadata": {},
   "outputs": [],
   "source": [
    "import os\n",
    "\n",
    "import pandas as pd\n",
    "import numpy as np\n",
    "import cv2\n",
    "import matplotlib.pyplot as plt\n",
    "\n",
    "import keras\n",
    "from keras.preprocessing.image import ImageDataGenerator\n",
    "from keras.callbacks import ModelCheckpoint\n",
    "from keras.applications import Xception\n",
    "from keras import layers\n",
    "from keras.applications.xception import preprocess_input\n",
    "\n",
    "from sklearn.metrics import f1_score\n",
    "from sklearn.metrics import accuracy_score"
   ]
  },
  {
   "cell_type": "markdown",
   "id": "operating-aspect",
   "metadata": {},
   "source": [
    "## Xception training and testing\n",
    "\n",
    "CelebA dataset has to be downloaded manualy from [google drive](https://drive.google.com/drive/folders/0B7EVK8r0v71pbWNEUjJKdDQ3dGc?usp=sharing).\n",
    "\n",
    "Extract the archives and specify the path to the dataset in **\\_image_dir** variable.\n",
    "\n",
    "**\\_num_epochs** or **\\_batch_size** can be custom specified.\n",
    "\n",
    "You can also specify the **\\_attributes** you want to train on, but we recommend the default for the first run."
   ]
  },
  {
   "cell_type": "code",
   "execution_count": null,
   "id": "optional-trailer",
   "metadata": {},
   "outputs": [],
   "source": [
    "_image_dir = '/data/rbelanec/datasets/celeba/img_align_celeba_png/' # replace this with path to raw CelebA dataset\n",
    "_img_width = 128\n",
    "_img_height = 128\n",
    "_batch_size = 20\n",
    "_num_epochs = 10\n",
    "_attributes = ['Eyeglasses', 'Smiling', 'Male', 'No_Beard', 'Young']\n",
    "_weights_name = 'weights/weights_xception_5attr.h5'"
   ]
  },
  {
   "cell_type": "markdown",
   "id": "suffering-mortality",
   "metadata": {},
   "source": [
    "### Data preparation\n",
    "Select only desired attributes, add partition to each image and add fullpath to images.\n",
    "\n",
    "This partitiong is recommended by CelebA dataset authors."
   ]
  },
  {
   "cell_type": "code",
   "execution_count": null,
   "id": "decimal-composite",
   "metadata": {},
   "outputs": [],
   "source": [
    "img_df = pd.read_csv('../dataset/celeba/attr_celeba.csv').replace({-1:0})[['filename'] + _attributes]\n",
    "partition_df = pd.read_csv('../dataset/celeba/list_eval_partition.csv')\n",
    "\n",
    "img_df = img_df.merge(partition_df, on='filename') # add partition merge dataframes on filename\n",
    "img_df.loc[:, 'filename'] = img_df.loc[:, 'filename'].apply(lambda x: os.path.join(_image_dir, x)) # full path\n",
    "img_df.head()"
   ]
  },
  {
   "cell_type": "code",
   "execution_count": null,
   "id": "portable-prairie",
   "metadata": {},
   "outputs": [],
   "source": [
    "# split to train, valid and test based on partitions\n",
    "train_df = img_df.loc[img_df.loc[:, 'partition'] == 0, ['filename'] + _attributes]\n",
    "valid_df = img_df.loc[img_df.loc[:, 'partition'] == 1, ['filename'] + _attributes]\n",
    "test_df = img_df.loc[img_df.loc[:, 'partition'] == 2,  ['filename'] + _attributes]"
   ]
  },
  {
   "cell_type": "markdown",
   "id": "attached-projection",
   "metadata": {},
   "source": [
    "We are using ImageDataGenerators to load dataset from dataframe."
   ]
  },
  {
   "cell_type": "code",
   "execution_count": null,
   "id": "breathing-synthesis",
   "metadata": {},
   "outputs": [],
   "source": [
    "train_datagen =  ImageDataGenerator(\n",
    "    preprocessing_function=preprocess_input,\n",
    "    rescale=1./255,\n",
    ")\n",
    "\n",
    "train_generator = train_datagen.flow_from_dataframe(\n",
    "    train_df,\n",
    "    batch_size=_batch_size,\n",
    "    x_col='filename', \n",
    "    y_col=_attributes,\n",
    "    class_mode='raw',\n",
    "    target_size=(_img_width, _img_height),\n",
    "    validate_filenames=False)"
   ]
  },
  {
   "cell_type": "code",
   "execution_count": null,
   "id": "looking-receipt",
   "metadata": {},
   "outputs": [],
   "source": [
    "valid_datagen =  ImageDataGenerator(\n",
    "    preprocessing_function=preprocess_input,\n",
    "    rescale=1./255\n",
    ")\n",
    "\n",
    "valid_generator = valid_datagen.flow_from_dataframe(\n",
    "    valid_df,\n",
    "    batch_size=_batch_size,\n",
    "    x_col='filename', \n",
    "    y_col=_attributes,\n",
    "    class_mode='raw',\n",
    "    target_size=(_img_width, _img_height),\n",
    "    validate_filenames=False)"
   ]
  },
  {
   "cell_type": "markdown",
   "id": "critical-boundary",
   "metadata": {},
   "source": [
    "### Model creation\n",
    "Xception base model is pretrained on imagenet dataset."
   ]
  },
  {
   "cell_type": "code",
   "execution_count": null,
   "id": "gross-calgary",
   "metadata": {},
   "outputs": [],
   "source": [
    "base_model = Xception(\n",
    "             input_shape=(_img_width, _img_height, 3), \n",
    "             include_top=False, \n",
    "             weights=\"imagenet\"\n",
    "        )"
   ]
  },
  {
   "cell_type": "markdown",
   "id": "surprising-final",
   "metadata": {},
   "source": [
    "Adding average pooling layer and output layer."
   ]
  },
  {
   "cell_type": "code",
   "execution_count": null,
   "id": "complimentary-avatar",
   "metadata": {},
   "outputs": [],
   "source": [
    "x = base_model.output\n",
    "x = layers.GlobalAveragePooling2D()(x)\n",
    "outputs = layers.Dense(len(_attributes), activation=\"sigmoid\")(x)"
   ]
  },
  {
   "cell_type": "markdown",
   "id": "likely-appointment",
   "metadata": {},
   "source": [
    "Compile model. Learning rate can be also custom specified, but for the first run, we recommend the default value."
   ]
  },
  {
   "cell_type": "code",
   "execution_count": null,
   "id": "floating-valve",
   "metadata": {},
   "outputs": [],
   "source": [
    "model = keras.Model(inputs=base_model.input, outputs=outputs)\n",
    "model.compile(optimizer=keras.optimizers.Adam(lr=0.0001), loss='binary_crossentropy', metrics=['accuracy'])"
   ]
  },
  {
   "cell_type": "markdown",
   "id": "spread-michael",
   "metadata": {},
   "source": [
    "Save best validation loss."
   ]
  },
  {
   "cell_type": "code",
   "execution_count": null,
   "id": "round-neutral",
   "metadata": {},
   "outputs": [],
   "source": [
    "checkpointer = ModelCheckpoint(filepath=_weights_name, verbose=1, save_best_only=True)"
   ]
  },
  {
   "cell_type": "markdown",
   "id": "uniform-aquatic",
   "metadata": {},
   "source": [
    "### Model training"
   ]
  },
  {
   "cell_type": "code",
   "execution_count": null,
   "id": "consistent-aberdeen",
   "metadata": {},
   "outputs": [],
   "source": [
    "history = model.fit(train_generator,\n",
    "                    validation_data=valid_generator,\n",
    "                    steps_per_epoch=len(train_df)//_batch_size,\n",
    "                    validation_steps=len(valid_df) // _batch_size,\n",
    "                    epochs=10,\n",
    "                    callbacks=[checkpointer],\n",
    "                    verbose=1)"
   ]
  },
  {
   "cell_type": "code",
   "execution_count": null,
   "id": "specified-today",
   "metadata": {},
   "outputs": [],
   "source": [
    "plt.figure(figsize=(18, 4))\n",
    "plt.plot(history.history['loss'], label = 'train')\n",
    "plt.plot(history.history['val_loss'], label = 'valid')\n",
    "plt.legend()\n",
    "plt.title('Loss Function')\n",
    "plt.show()"
   ]
  },
  {
   "cell_type": "code",
   "execution_count": null,
   "id": "noble-sewing",
   "metadata": {},
   "outputs": [],
   "source": [
    "plt.figure(figsize=(18, 4))\n",
    "plt.plot(history.history['accuracy'], label = 'train')\n",
    "plt.plot(history.history['val_accuracy'], label = 'valid')\n",
    "plt.legend()\n",
    "plt.title('Accuracy')\n",
    "plt.show()"
   ]
  },
  {
   "cell_type": "markdown",
   "id": "literary-cowboy",
   "metadata": {},
   "source": [
    "### Optional: Skip Training"
   ]
  },
  {
   "cell_type": "code",
   "execution_count": null,
   "id": "danish-student",
   "metadata": {},
   "outputs": [],
   "source": [
    "! mkdir weights\n",
    "! cd weights && wget -nc data.belanec.eu/xception/weights/weights_xception_5attr.h5"
   ]
  },
  {
   "cell_type": "markdown",
   "id": "flying-shock",
   "metadata": {},
   "source": [
    "### Model testing"
   ]
  },
  {
   "cell_type": "code",
   "execution_count": null,
   "id": "executive-approval",
   "metadata": {},
   "outputs": [],
   "source": [
    "model.load_weights(_weights_name)"
   ]
  },
  {
   "cell_type": "code",
   "execution_count": null,
   "id": "crude-morgan",
   "metadata": {},
   "outputs": [],
   "source": [
    "test_datagen =  ImageDataGenerator(\n",
    "    preprocessing_function=preprocess_input,\n",
    "    rescale=1./255,\n",
    ")\n",
    "\n",
    "test_generator = test_datagen.flow_from_dataframe(\n",
    "    test_df,\n",
    "    batch_size=1,\n",
    "    x_col='filename', \n",
    "    y_col=attributes,\n",
    "    class_mode='raw',\n",
    "    target_size=(_img_width, _img_height),\n",
    "    validate_filenames=False,\n",
    "    shuffle=False)"
   ]
  },
  {
   "cell_type": "code",
   "execution_count": null,
   "id": "serious-girlfriend",
   "metadata": {},
   "outputs": [],
   "source": [
    "model_predictions = model.predict(test_generator)"
   ]
  },
  {
   "cell_type": "code",
   "execution_count": null,
   "id": "governing-joining",
   "metadata": {},
   "outputs": [],
   "source": [
    "preds = np.array(model_predictions > 0.5).astype(int)"
   ]
  },
  {
   "cell_type": "code",
   "execution_count": null,
   "id": "native-share",
   "metadata": {},
   "outputs": [],
   "source": [
    "test_accuracy = 100 * accuracy_score(preds, test_df.loc[:, attributes].values)\n",
    "print('Test accuracy score: ' + str(test_accuracy))"
   ]
  },
  {
   "cell_type": "code",
   "execution_count": null,
   "id": "specific-floating",
   "metadata": {},
   "outputs": [],
   "source": [
    "f1 = f1_score(test_df.loc[:,  attributes].values, preds, average='weighted')\n",
    "print('f1 score: ' + str(f1))"
   ]
  },
  {
   "cell_type": "markdown",
   "id": "adequate-framework",
   "metadata": {},
   "source": [
    "## Generated images classification\n",
    "\n",
    "### Data preparation"
   ]
  },
  {
   "cell_type": "code",
   "execution_count": null,
   "id": "sunset-constraint",
   "metadata": {},
   "outputs": [],
   "source": [
    "label_datagen =  ImageDataGenerator(\n",
    "    preprocessing_function=preprocess_input,\n",
    "    rescale=1./255,\n",
    ")\n",
    "\n",
    "label_generator = label_datagen.flow_from_directory(\n",
    "    '../../01_generate_samples/img', # path to generated images\n",
    "    classes=['to_label'], # to_label is the last directory\n",
    "    batch_size=1,\n",
    "    target_size=(_img_width, _img_height),\n",
    "    shuffle=False)"
   ]
  },
  {
   "cell_type": "markdown",
   "id": "deluxe-craps",
   "metadata": {},
   "source": [
    "### Label prediction"
   ]
  },
  {
   "cell_type": "code",
   "execution_count": null,
   "id": "statewide-chart",
   "metadata": {},
   "outputs": [],
   "source": [
    "model_predictions = model.predict(label_generator)"
   ]
  },
  {
   "cell_type": "code",
   "execution_count": null,
   "id": "widespread-receptor",
   "metadata": {},
   "outputs": [],
   "source": [
    "np.set_printoptions(formatter={'float_kind':\"{:.6f}\".format})\n",
    "print(model_predictions[0])"
   ]
  },
  {
   "cell_type": "markdown",
   "id": "imperial-ranking",
   "metadata": {},
   "source": [
    "Labels are representing a probability of: Eyeglasses, Smiling, Male, No_Beard, Young"
   ]
  },
  {
   "cell_type": "code",
   "execution_count": null,
   "id": "narrative-camel",
   "metadata": {},
   "outputs": [],
   "source": [
    "import h5py\n",
    "with h5py.File('sample_z2.h5', 'r') as f:\n",
    "    z = f['z'][:]"
   ]
  },
  {
   "cell_type": "code",
   "execution_count": null,
   "id": "separated-judge",
   "metadata": {},
   "outputs": [],
   "source": [
    "from custom_gen import StyleGANGenerator\n",
    "_stylegan_ffhq_f_gdrive_url = 'https://nvlabs-fi-cdn.nvidia.com/stylegan2/networks/stylegan2-ffhq-config-f.pkl'\n",
    "\n",
    "gen = StyleGANGenerator(_stylegan_ffhq_f_gdrive_url)"
   ]
  },
  {
   "cell_type": "code",
   "execution_count": null,
   "id": "consolidated-switzerland",
   "metadata": {},
   "outputs": [],
   "source": [
    "img = gen.get_images(np.reshape(z[0], (1,512)))\n",
    "plt.imshow(img[0]/255)"
   ]
  },
  {
   "cell_type": "markdown",
   "id": "ordinary-korean",
   "metadata": {},
   "source": [
    "Predictions for the image above: \n",
    "- Eyeglasses: **2.3424625e-05** \n",
    "- Smiling: **9.7760320e-01** \n",
    "- Male: **3.3760071e-04**\n",
    "- No_Beard: **9.9998659e-01**\n",
    "- Young: **8.0151093e-01**"
   ]
  },
  {
   "cell_type": "code",
   "execution_count": null,
   "id": "printable-marks",
   "metadata": {},
   "outputs": [],
   "source": [
    "import pickle\n",
    "with open('predictions/predictions_xception_5attr.pkl', 'wb') as f:\n",
    "    pickle.dump(model_predictions, f)"
   ]
  },
  {
   "cell_type": "markdown",
   "id": "returning-liechtenstein",
   "metadata": {},
   "source": [
    "## Next notebook\n",
    "Continue to 03_regress_feature_axis."
   ]
  }
 ],
 "metadata": {
  "kernelspec": {
   "display_name": "Python 3",
   "language": "python",
   "name": "python3"
  },
  "language_info": {
   "codemirror_mode": {
    "name": "ipython",
    "version": 3
   },
   "file_extension": ".py",
   "mimetype": "text/x-python",
   "name": "python",
   "nbconvert_exporter": "python",
   "pygments_lexer": "ipython3",
   "version": "3.7.9"
  }
 },
 "nbformat": 4,
 "nbformat_minor": 5
}
