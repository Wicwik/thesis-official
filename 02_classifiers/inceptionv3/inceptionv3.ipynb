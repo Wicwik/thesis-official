{
 "cells": [
  {
   "cell_type": "markdown",
   "id": "czech-cable",
   "metadata": {},
   "source": [
    "# 2. Classify images with InceptionV3\n",
    "\n",
    "Trained on CelebA [dataset](http://mmlab.ie.cuhk.edu.hk/projects/CelebA.html)."
   ]
  },
  {
   "cell_type": "code",
   "execution_count": null,
   "id": "intellectual-world",
   "metadata": {},
   "outputs": [],
   "source": [
    "import os\n",
    "import pandas as pd\n",
    "import numpy as np\n",
    "import matplotlib.pyplot as plt\n",
    "\n",
    "import keras\n",
    "from keras.models import Model \n",
    "from keras.layers import Dropout, Flatten, Dense, GlobalAveragePooling2D\n",
    "from keras.preprocessing.image import ImageDataGenerator\n",
    "from keras.applications.inception_v3 import InceptionV3, preprocess_input\n",
    "from keras.callbacks import ModelCheckpoint\n",
    "\n",
    "from sklearn.metrics import f1_score\n",
    "from sklearn.metrics import accuracy_score"
   ]
  },
  {
   "cell_type": "markdown",
   "id": "overall-harbor",
   "metadata": {},
   "source": [
    "## InceptionV3 training and testing\n",
    "\n",
    "CelebA dataset has to be downloaded manualy from [google drive](https://drive.google.com/drive/folders/0B7EVK8r0v71pbWNEUjJKdDQ3dGc?usp=sharing).\n",
    "\n",
    "Extract the archives and specify the path to the dataset in **\\_image_dir** variable.\n",
    "\n",
    "**\\_num_epochs** or **\\_batch_size** can be custom specified.\n",
    "\n",
    "You can also specify the **\\_attributes** you want to train on, but we recommend the default for the first run."
   ]
  },
  {
   "cell_type": "code",
   "execution_count": null,
   "id": "vietnamese-situation",
   "metadata": {},
   "outputs": [],
   "source": [
    "_image_dir = '/home/rbelanec/Documents/BP/datasets/celeba/img_align_celeba_png' # replace this with path to raw CelebA dataset\n",
    "_img_width = 178\n",
    "_img_height = 218\n",
    "_batch_size = 16\n",
    "_num_epochs = 20\n",
    "_attributes = ['Eyeglasses', 'Smiling', 'Male', 'No_Beard', 'Young']\n",
    "_weights_name = 'weights/weights_inceptionv3_5attr.h5'"
   ]
  },
  {
   "cell_type": "markdown",
   "id": "saving-cooper",
   "metadata": {},
   "source": [
    "### Data preparation\n",
    "Select only desired attributes, add partition to each image and add fullpath to images.\n",
    "\n",
    "This partitiong is recommended by CelebA dataset authors."
   ]
  },
  {
   "cell_type": "code",
   "execution_count": null,
   "id": "joint-vegetarian",
   "metadata": {},
   "outputs": [],
   "source": [
    "img_df = pd.read_csv('../dataset/celeba/attr_celeba.csv').replace({-1:0})[['filename'] + _attributes]\n",
    "partition_df = pd.read_csv('../dataset/celeba/list_eval_partition.csv')\n",
    "\n",
    "img_df = img_df.merge(partition_df, on='filename') # add partition merge dataframes on filename\n",
    "img_df.loc[:, 'filename'] = img_df.loc[:, 'filename'].apply(lambda x: os.path.join(_image_dir, x)) # full path\n",
    "img_df.head()"
   ]
  },
  {
   "cell_type": "code",
   "execution_count": null,
   "id": "requested-frequency",
   "metadata": {},
   "outputs": [],
   "source": [
    "# split to train, valid and test based on partitions\n",
    "train_df = img_df.loc[img_df.loc[:, 'partition'] == 0, ['filename'] + _attributes]\n",
    "valid_df = img_df.loc[img_df.loc[:, 'partition'] == 1, ['filename'] + _attributes]\n",
    "test_df = img_df.loc[img_df.loc[:, 'partition'] == 2,  ['filename'] + _attributes]"
   ]
  },
  {
   "cell_type": "markdown",
   "id": "understanding-insulin",
   "metadata": {},
   "source": [
    "We are using ImageDataGenerators to load dataset from dataframe."
   ]
  },
  {
   "cell_type": "code",
   "execution_count": null,
   "id": "threatened-capitol",
   "metadata": {},
   "outputs": [],
   "source": [
    "train_datagen =  ImageDataGenerator(\n",
    "    preprocessing_function=preprocess_input,\n",
    "    rescale=1./255,\n",
    ")\n",
    "\n",
    "train_generator = train_datagen.flow_from_dataframe(\n",
    "    train_df,\n",
    "    batch_size=_batch_size,\n",
    "    x_col='filename', \n",
    "    y_col= _attributes,\n",
    "    class_mode='raw',\n",
    "    target_size=(_img_width, _img_height),\n",
    "    validate_filenames=False)"
   ]
  },
  {
   "cell_type": "code",
   "execution_count": null,
   "id": "impressive-honor",
   "metadata": {},
   "outputs": [],
   "source": [
    "valid_datagen =  ImageDataGenerator(\n",
    "    preprocessing_function=preprocess_input,\n",
    "    rescale=1./255\n",
    ")\n",
    "\n",
    "valid_generator = valid_datagen.flow_from_dataframe(\n",
    "    valid_df,\n",
    "    batch_size=_batch_size,\n",
    "    x_col='filename', \n",
    "    y_col=_attributes,\n",
    "    class_mode='raw',\n",
    "    target_size=(_img_width, _img_height),\n",
    "    validate_filenames=False)"
   ]
  },
  {
   "cell_type": "markdown",
   "id": "acquired-generic",
   "metadata": {},
   "source": [
    "### Model creation\n",
    "InceptionV3 base model is pretrained on imagenet dataset."
   ]
  },
  {
   "cell_type": "code",
   "execution_count": null,
   "id": "working-bearing",
   "metadata": {},
   "outputs": [],
   "source": [
    "base_model = InceptionV3(weights='imagenet',\n",
    "                        include_top=False,\n",
    "                        input_shape=(_img_width, _img_height, 3))\n",
    "\n",
    "print(\"number of layers:\", len(base_model.layers))"
   ]
  },
  {
   "cell_type": "markdown",
   "id": "gothic-poster",
   "metadata": {},
   "source": [
    "Adding average pooling layer and output layer."
   ]
  },
  {
   "cell_type": "code",
   "execution_count": null,
   "id": "collectible-delhi",
   "metadata": {},
   "outputs": [],
   "source": [
    "x = base_model.output\n",
    "x = GlobalAveragePooling2D()(x)\n",
    "outputs = Dense(len(_attributes), activation=\"sigmoid\")(x)"
   ]
  },
  {
   "cell_type": "markdown",
   "id": "younger-houston",
   "metadata": {},
   "source": [
    "Compile model. Learning rate can be also custom specified, but for the first run, we recommend the default value."
   ]
  },
  {
   "cell_type": "code",
   "execution_count": null,
   "id": "considerable-klein",
   "metadata": {},
   "outputs": [],
   "source": [
    "model = Model(inputs=base_model.input, outputs=outputs)\n",
    "model.compile(optimizer=keras.optimizers.Adam(lr=0.0001), loss='binary_crossentropy', metrics=['accuracy'])"
   ]
  },
  {
   "cell_type": "markdown",
   "id": "brazilian-papua",
   "metadata": {},
   "source": [
    "Save best validation loss."
   ]
  },
  {
   "cell_type": "code",
   "execution_count": null,
   "id": "phantom-intake",
   "metadata": {},
   "outputs": [],
   "source": [
    "checkpointer = ModelCheckpoint(filepath=_weights_name, verbose=1, save_best_only=True)"
   ]
  },
  {
   "cell_type": "markdown",
   "id": "million-content",
   "metadata": {},
   "source": [
    "### Model training"
   ]
  },
  {
   "cell_type": "code",
   "execution_count": null,
   "id": "handed-russell",
   "metadata": {},
   "outputs": [],
   "source": [
    "hist = model.fit_generator(train_generator,\n",
    "                            validation_data = valid_generator,\n",
    "                            steps_per_epoch= len(train_df)//_batch_size,\n",
    "                            validation_steps=len(valid_df) // _batch_size,\n",
    "                            epochs=_num_epochs,\n",
    "                            callbacks=[checkpointer],\n",
    "                            verbose=1,\n",
    "                           )"
   ]
  },
  {
   "cell_type": "code",
   "execution_count": null,
   "id": "disturbed-contemporary",
   "metadata": {},
   "outputs": [],
   "source": [
    "plt.figure(figsize=(18, 4))\n",
    "plt.plot(hist.history['loss'], label = 'train')\n",
    "plt.plot(hist.history['val_loss'], label = 'valid')\n",
    "plt.legend()\n",
    "plt.title('Loss Function')\n",
    "plt.show()"
   ]
  },
  {
   "cell_type": "code",
   "execution_count": null,
   "id": "current-organic",
   "metadata": {},
   "outputs": [],
   "source": [
    "plt.figure(figsize=(18, 4))\n",
    "plt.plot(hist.history['accuracy'], label = 'train')\n",
    "plt.plot(hist.history['val_accuracy'], label = 'valid')\n",
    "plt.legend()\n",
    "plt.title('Accuracy')\n",
    "plt.show()"
   ]
  },
  {
   "cell_type": "markdown",
   "id": "convinced-longer",
   "metadata": {},
   "source": [
    "### Optional: Skip training"
   ]
  },
  {
   "cell_type": "code",
   "execution_count": null,
   "id": "hazardous-concentration",
   "metadata": {},
   "outputs": [],
   "source": [
    "! mkdir weights\n",
    "! cd weights && wget -nc data.belanec.eu/inceptionv3/weights/weights_inceptionv3_5attr.h5"
   ]
  },
  {
   "cell_type": "markdown",
   "id": "determined-celebrity",
   "metadata": {},
   "source": [
    "### Model testing"
   ]
  },
  {
   "cell_type": "code",
   "execution_count": null,
   "id": "communist-madrid",
   "metadata": {},
   "outputs": [],
   "source": [
    "test_datagen =  ImageDataGenerator(\n",
    "    preprocessing_function=preprocess_input,\n",
    "    rescale=1./255,\n",
    ")\n",
    "\n",
    "test_generator = test_datagen.flow_from_dataframe(\n",
    "    test_df,\n",
    "    batch_size=1,\n",
    "    x_col='filename', \n",
    "    y_col=_attributes,\n",
    "    class_mode='raw',\n",
    "    target_size=(_img_width, _img_height),\n",
    "    validate_filenames=False,\n",
    "    shuffle=False)"
   ]
  },
  {
   "cell_type": "code",
   "execution_count": null,
   "id": "sorted-tourism",
   "metadata": {},
   "outputs": [],
   "source": [
    "model.load_weights(_weights_name)"
   ]
  },
  {
   "cell_type": "code",
   "execution_count": null,
   "id": "fossil-mistake",
   "metadata": {},
   "outputs": [],
   "source": [
    "model_predictions = model.predict(test_generator)\n",
    "preds = np.array(model_predictions > 0.5).astype(int)"
   ]
  },
  {
   "cell_type": "code",
   "execution_count": null,
   "id": "breeding-fabric",
   "metadata": {},
   "outputs": [],
   "source": [
    "test_accuracy = 100 * accuracy_score(preds, test_df.loc[:, _attributes].values)\n",
    "print('Test accuracy score: ' + str(test_accuracy))"
   ]
  },
  {
   "cell_type": "code",
   "execution_count": null,
   "id": "reasonable-danger",
   "metadata": {},
   "outputs": [],
   "source": [
    "f1 = f1_score(test_df.loc[:,  _attributes].values, preds, average='weighted')\n",
    "print('f1 score: ' + str(f1))"
   ]
  },
  {
   "cell_type": "markdown",
   "id": "concerned-playback",
   "metadata": {},
   "source": [
    "## Generated images classification\n",
    "\n",
    "### Data preparation"
   ]
  },
  {
   "cell_type": "code",
   "execution_count": null,
   "id": "complex-draft",
   "metadata": {},
   "outputs": [],
   "source": [
    "label_datagen =  ImageDataGenerator(\n",
    "    preprocessing_function=preprocess_input,\n",
    "    rescale=1./255,\n",
    ")\n",
    "\n",
    "label_generator = label_datagen.flow_from_directory(\n",
    "    '../../01_generate_samples/img', # path to generated images\n",
    "    classes=['to_label'], # to_label is the last directory\n",
    "    batch_size=1,\n",
    "    target_size=(_img_width, _img_height),\n",
    "    shuffle=False)"
   ]
  },
  {
   "cell_type": "markdown",
   "id": "entire-forty",
   "metadata": {},
   "source": [
    "### Label prediction"
   ]
  },
  {
   "cell_type": "code",
   "execution_count": null,
   "id": "minute-dispute",
   "metadata": {},
   "outputs": [],
   "source": [
    "model_predictions = model.predict(label_generator)"
   ]
  },
  {
   "cell_type": "code",
   "execution_count": null,
   "id": "passing-directive",
   "metadata": {},
   "outputs": [],
   "source": [
    "np.set_printoptions(formatter={'float_kind':\"{:.6f}\".format})\n",
    "print(model_predictions[154])"
   ]
  },
  {
   "cell_type": "markdown",
   "id": "skilled-sending",
   "metadata": {},
   "source": [
    "Labels are representing a probability of: Eyeglasses, Smiling, Male, No_Beard, Young"
   ]
  },
  {
   "cell_type": "code",
   "execution_count": null,
   "id": "alive-prospect",
   "metadata": {},
   "outputs": [],
   "source": [
    "import h5py\n",
    "with h5py.File('../../01_generate_samples/noise_vectors/sample_z.h5', 'r') as f:\n",
    "    z = f['z'][:]"
   ]
  },
  {
   "cell_type": "code",
   "execution_count": null,
   "id": "suffering-given",
   "metadata": {},
   "outputs": [],
   "source": [
    "from custom_gen import StyleGANGenerator\n",
    "_stylegan_ffhq_f_gdrive_url = 'https://nvlabs-fi-cdn.nvidia.com/stylegan2/networks/stylegan2-ffhq-config-f.pkl'\n",
    "\n",
    "gen = StyleGANGenerator(_stylegan_ffhq_f_gdrive_url)"
   ]
  },
  {
   "cell_type": "code",
   "execution_count": null,
   "id": "baking-banking",
   "metadata": {},
   "outputs": [],
   "source": [
    "img = gen.get_images(np.reshape(z[154], (1,512)))\n",
    "plt.imshow(img[0]/255)"
   ]
  },
  {
   "cell_type": "markdown",
   "id": "outer-uncle",
   "metadata": {},
   "source": [
    "Predictions for the image above: \n",
    "- Eyeglasses: **0.999811** \n",
    "- Smiling: **0.000009** \n",
    "- Male: **0.999993**\n",
    "- No_Beard: **0.110903**\n",
    "- Young: **0.230218**"
   ]
  },
  {
   "cell_type": "markdown",
   "id": "defensive-secret",
   "metadata": {},
   "source": [
    "Saving predictions."
   ]
  },
  {
   "cell_type": "code",
   "execution_count": null,
   "id": "spread-discussion",
   "metadata": {},
   "outputs": [],
   "source": [
    "import pickle\n",
    "with open('predictions/predictions_inceptionv3_5attr.pkl', 'wb') as f:\n",
    "    pickle.dump(model_predictions, f)"
   ]
  },
  {
   "cell_type": "markdown",
   "id": "twelve-search",
   "metadata": {},
   "source": [
    "## Next notebook\n",
    "Continue to 03_generate_altered_images."
   ]
  }
 ],
 "metadata": {
  "kernelspec": {
   "display_name": "Python 3",
   "language": "python",
   "name": "python3"
  },
  "language_info": {
   "codemirror_mode": {
    "name": "ipython",
    "version": 3
   },
   "file_extension": ".py",
   "mimetype": "text/x-python",
   "name": "python",
   "nbconvert_exporter": "python",
   "pygments_lexer": "ipython3",
   "version": "3.7.9"
  }
 },
 "nbformat": 4,
 "nbformat_minor": 5
}
