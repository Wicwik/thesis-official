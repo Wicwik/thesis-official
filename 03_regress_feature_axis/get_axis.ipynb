{
 "cells": [
  {
   "cell_type": "markdown",
   "id": "chief-latino",
   "metadata": {},
   "source": [
    "# 3. Regress feature axis\n",
    "\n",
    "For more information about axis source code, see src/axis.py."
   ]
  },
  {
   "cell_type": "code",
   "execution_count": null,
   "id": "usual-fitness",
   "metadata": {},
   "outputs": [],
   "source": [
    "import h5py\n",
    "import pickle\n",
    "import matplotlib.pyplot as plt\n",
    "import keras\n",
    "\n",
    "import numpy as np\n",
    "import matplotlib.pyplot as plt\n",
    "import cv2\n",
    "import pandas as pd"
   ]
  },
  {
   "cell_type": "markdown",
   "id": "tired-samuel",
   "metadata": {},
   "source": [
    "### Optional: Download predicted labels "
   ]
  },
  {
   "cell_type": "code",
   "execution_count": null,
   "id": "listed-acrylic",
   "metadata": {},
   "outputs": [],
   "source": [
    "! mkdir ../02_classifiers/inceptionv3/predictions/ \n",
    "! cd ../02_classifiers/inceptionv3/predictions/ && wget -nc data.belanec.eu/inceptionv3/predictions/predictions_inceptionv3_5attr.pkl"
   ]
  },
  {
   "cell_type": "code",
   "execution_count": null,
   "id": "outer-parts",
   "metadata": {},
   "outputs": [],
   "source": [
    "! mkdir ../02_classifiers/xception/predictions/ \n",
    "! cd ../02_classifiers/xception/predictions/ && wget -nc data.belanec.eu/xception/predictions/predictions_xception_5attr.pkl"
   ]
  },
  {
   "cell_type": "markdown",
   "id": "behind-pendant",
   "metadata": {},
   "source": [
    "Specify attributes for serialization purposes and specify path to predicted labels."
   ]
  },
  {
   "cell_type": "code",
   "execution_count": null,
   "id": "extreme-atmosphere",
   "metadata": {},
   "outputs": [],
   "source": [
    "_attributes = ['Eyeglasses', 'Smiling', 'Male', 'No_Beard', 'Young']\n",
    "_predictions_path = '../02_classifiers/inceptionv3/predictions/predictions_inceptionv3_5attr.pkl'\n",
    "_feature_direction_path = 'feature_directions/feature_direction_inceptionv3_5attr_tanh_normalized.pkl'"
   ]
  },
  {
   "cell_type": "code",
   "execution_count": null,
   "id": "continuing-ukraine",
   "metadata": {},
   "outputs": [],
   "source": [
    "# load labels\n",
    "with open(_predictions_path, 'rb') as f:\n",
    "    predictions = pickle.load(f)"
   ]
  },
  {
   "cell_type": "code",
   "execution_count": null,
   "id": "crude-elephant",
   "metadata": {},
   "outputs": [],
   "source": [
    "# load random noise vectors\n",
    "with h5py.File('../01_generate_samples/noise_vectors/sample_z.h5', 'r') as f:\n",
    "    z = f['z'][:]"
   ]
  },
  {
   "cell_type": "markdown",
   "id": "opened-course",
   "metadata": {},
   "source": [
    "Data check and a preview."
   ]
  },
  {
   "cell_type": "code",
   "execution_count": null,
   "id": "familiar-suicide",
   "metadata": {},
   "outputs": [],
   "source": [
    "from stylegan_generator import StyleGANGenerator\n",
    "_stylegan_ffhq_f_gdrive_url = 'https://nvlabs-fi-cdn.nvidia.com/stylegan2/networks/stylegan2-ffhq-config-f.pkl'\n",
    "\n",
    "gen = StyleGANGenerator(_stylegan_ffhq_f_gdrive_url)"
   ]
  },
  {
   "cell_type": "code",
   "execution_count": null,
   "id": "changed-excess",
   "metadata": {},
   "outputs": [],
   "source": [
    "np.set_printoptions(formatter={'float_kind':\"{:.6f}\".format})\n",
    "\n",
    "image_n = 154841\n",
    "img = gen.get_images(np.reshape(z[image_n], (1,512)))\n",
    "plt.title(predictions[image_n])\n",
    "plt.axis('off')\n",
    "plt.imshow(img[0]/255)"
   ]
  },
  {
   "cell_type": "code",
   "execution_count": null,
   "id": "exceptional-flashing",
   "metadata": {},
   "outputs": [],
   "source": [
    "import src.axis as axis\n",
    "# default method is linear\n",
    "# swap linear/tanh for experimentation\n",
    "feature_slope = axis.find_feature_axis(z, predictions, method='tanh')"
   ]
  },
  {
   "cell_type": "code",
   "execution_count": null,
   "id": "loving-lawrence",
   "metadata": {},
   "outputs": [],
   "source": [
    "# vector normalization, True/False for exprimentation\n",
    "_normalize_feature_direction = True\n",
    "if _normalize_feature_direction:\n",
    "    feature_direction = axis.normalize_feature_axis(feature_slope)\n",
    "else:\n",
    "    feature_direction = feature_slope"
   ]
  },
  {
   "cell_type": "markdown",
   "id": "smooth-hormone",
   "metadata": {},
   "source": [
    "Save the feature directions."
   ]
  },
  {
   "cell_type": "code",
   "execution_count": null,
   "id": "orange-candy",
   "metadata": {},
   "outputs": [],
   "source": [
    "! mkdir feature_directions"
   ]
  },
  {
   "cell_type": "code",
   "execution_count": null,
   "id": "based-nation",
   "metadata": {},
   "outputs": [],
   "source": [
    "dict_to_save = {'direction': feature_direction, 'name': _attributes}\n",
    "with open(_feature_direction_path, 'wb') as f:\n",
    "    pickle.dump(dict_to_save, f)"
   ]
  },
  {
   "cell_type": "markdown",
   "id": "effective-section",
   "metadata": {},
   "source": [
    "## Next notebook\n",
    "Continue to 04_generate_altered_images."
   ]
  }
 ],
 "metadata": {
  "kernelspec": {
   "display_name": "Python 3",
   "language": "python",
   "name": "python3"
  },
  "language_info": {
   "codemirror_mode": {
    "name": "ipython",
    "version": 3
   },
   "file_extension": ".py",
   "mimetype": "text/x-python",
   "name": "python",
   "nbconvert_exporter": "python",
   "pygments_lexer": "ipython3",
   "version": "3.7.9"
  }
 },
 "nbformat": 4,
 "nbformat_minor": 5
}
